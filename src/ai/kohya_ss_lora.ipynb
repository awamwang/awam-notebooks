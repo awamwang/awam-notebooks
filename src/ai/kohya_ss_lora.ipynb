{
  "nbformat": 4,
  "nbformat_minor": 0,
  "metadata": {
    "colab": {
      "provenance": [],
      "gpuType": "T4"
    },
    "kernelspec": {
      "name": "python3",
      "display_name": "Python 3"
    },
    "language_info": {
      "name": "python"
    },
    "accelerator": "GPU"
  },
  "cells": [
    {
      "cell_type": "code",
      "source": [
        "from google.colab import drive\n",
        "drive.mount('/content/drive')"
      ],
      "metadata": {
        "colab": {
          "base_uri": "https://localhost:8080/"
        },
        "id": "UyNJz4LVr8el",
        "outputId": "c902ef20-e718-4a83-d0b7-994203be872e"
      },
      "execution_count": null,
      "outputs": [
        {
          "output_type": "stream",
          "name": "stdout",
          "text": [
            "Mounted at /content/drive\n"
          ]
        }
      ]
    },
    {
      "cell_type": "code",
      "source": [
        "!apt install python3.10-venv\n",
        "!python -V"
      ],
      "metadata": {
        "id": "HN0b5aa4FTCf"
      },
      "execution_count": null,
      "outputs": []
    },
    {
      "cell_type": "code",
      "source": [
        "!wget https://developer.download.nvidia.com/compute/cuda/repos/ubuntu2204/x86_64/cuda-keyring_1.1-1_all.deb\n",
        "!sudo dpkg -i cuda-keyring_1.1-1_all.deb\n",
        "!sudo apt-get update\n",
        "!sudo apt-get -y install cuda-toolkit-12-3\n",
        "# !sudo apt-get install -y cuda-drivers"
      ],
      "metadata": {
        "id": "HiMvXFsuNnaD"
      },
      "execution_count": null,
      "outputs": []
    },
    {
      "cell_type": "code",
      "source": [
        "!git clone https://github.com/bmaltais/kohya_ss.git\n",
        "%cd /content/kohya_ss\n",
        "!chmod +x ./setup.sh\n",
        "!./setup.sh"
      ],
      "metadata": {
        "id": "w6mFqwLM7jxE"
      },
      "execution_count": null,
      "outputs": []
    },
    {
      "cell_type": "code",
      "source": [
        "%cd /content/kohya_ss\n",
        "!./gui.sh --share  --headless"
      ],
      "metadata": {
        "id": "R86EXX6fOKfw",
        "colab": {
          "base_uri": "https://localhost:8080/"
        },
        "outputId": "17d8224a-745f-47d5-d7f9-a276f9335441"
      },
      "execution_count": null,
      "outputs": [
        {
          "output_type": "stream",
          "name": "stdout",
          "text": [
            "[Errno 2] No such file or directory: '/content/kohya_ss'\n",
            "/content\n",
            "/bin/bash: line 1: ./gui.sh: No such file or directory\n"
          ]
        }
      ]
    },
    {
      "cell_type": "code",
      "source": [],
      "metadata": {
        "id": "c407Gbi6ciS5"
      },
      "execution_count": null,
      "outputs": []
    }
  ]
}